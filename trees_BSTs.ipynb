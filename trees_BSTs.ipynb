{
 "cells": [
  {
   "cell_type": "code",
   "execution_count": null,
   "metadata": {},
   "outputs": [],
   "source": []
  },
  {
   "cell_type": "code",
   "execution_count": 10,
   "metadata": {},
   "outputs": [
    {
     "name": "stdout",
     "output_type": "stream",
     "text": [
      "5\n",
      "7\n",
      "8\n",
      "None\n",
      "[0, 1, 2, 3, 4, 5, 6, 7, 8, 9]\n",
      "0\n",
      "1\n",
      "2\n",
      "3\n",
      "4\n",
      "5\n",
      "6\n",
      "7\n",
      "8\n",
      "9\n",
      "##\n",
      "root : 4\n",
      "[0, 1, 2, 3, 4, 5, 6, 7, 8, 9]\n",
      "num leafs : 2\n",
      "BSF : [[4], [1, 7], [0, 2, 5, 8], [3, 6, 9]]\n",
      "Root:4\n",
      "    L--1\n",
      "        L--0\n",
      "        R--2\n",
      "            R--3\n",
      "    R--7\n",
      "        L--5\n",
      "            R--6\n",
      "        R--8\n",
      "            R--9\n"
     ]
    }
   ],
   "source": [
    "\n",
    "class Node: \n",
    "\n",
    "    def __init__(self , data):\n",
    "        self.data = data \n",
    "        self.left = None \n",
    "        self.right = None \n",
    "\n",
    "    def __str__(self):\n",
    "\n",
    "        return str(self.data) \n",
    "    \n",
    "\n",
    "#! creation - simple tree : \n",
    "tree = Node(7)\n",
    "\n",
    "left =  Node(5)\n",
    "tree.left =left \n",
    "\n",
    "right = Node(8)\n",
    "tree.right = right \n",
    "\n",
    "\n",
    "#! Traversal - simple tree : \n",
    "\n",
    "def in_order(tree ):\n",
    "    if (tree is None):\n",
    "        return \n",
    "    \n",
    "    in_order(tree.left)\n",
    "    print(tree.data)\n",
    "    in_order(tree.right) \n",
    "\n",
    "\n",
    "\n",
    "\n",
    "print(in_order(tree))\n",
    "\n",
    "\n",
    "#todo : Creating a Tree BST from a sorted list \n",
    "\n",
    "\n",
    "\n",
    "def list_to_BST(sorted_list , depth = 0): \n",
    "    \n",
    "    low = 0\n",
    "    high = len(sorted_list)-1\n",
    "    mid = (low+high) // 2 \n",
    "\n",
    "     \n",
    "    #! Tracking recursive calls :\n",
    "    # todo  : print('#'*depth , f\"depth {depth} low :{low} high:{high} mid:{mid} list:{sorted_list}\")\n",
    "\n",
    "    if low<=high:\n",
    "        tree = Node(data=sorted_list[mid])\n",
    "        tree.left = list_to_BST(sorted_list[:mid] , depth+1)\n",
    "        tree.right = list_to_BST(sorted_list[mid+1:]  , depth+1)\n",
    "\n",
    "        return tree\n",
    "\n",
    "\n",
    "sorted_list = list(range(10))\n",
    "print(sorted_list)\n",
    "new_tree = list_to_BST(sorted_list)\n",
    "\n",
    "#rint(in_order(new_tree))\n",
    "in_order(new_tree)\n",
    "print(\"##\")\n",
    "print(f\"root : {new_tree}\")\n",
    "\n",
    "def in_order_second(tree , final_list=[] ):\n",
    "    if (tree is None):\n",
    "        return \n",
    "    \n",
    "    in_order_second(tree.left)\n",
    "    final_list.append(tree.data)\n",
    "    in_order_second(tree.right) \n",
    "\n",
    "    return final_list\n",
    "\n",
    "print(in_order_second(new_tree))\n",
    "\n",
    "\n",
    "\n",
    "#!############################################################################\n",
    "\n",
    "# todo : numbre des feuilles : \n",
    "\n",
    "def num_leafs(tree):\n",
    "    \n",
    "    if tree is None : \n",
    "        return 0\n",
    "\n",
    "    if(tree.left==None and tree.right==None):\n",
    "        return 1 \n",
    "    else : \n",
    "        return num_leafs(tree.left)+num_leafs(tree.right)\n",
    "\n",
    "num_leafs = num_leafs(tree) \n",
    "\n",
    "print (f\"num leafs : { num_leafs }\") \n",
    "\n",
    "\n",
    "\n",
    "#######################################################################\n",
    "# todo : print a BST as a real tree  ---- USING A MATRIX and TREE Height\n",
    "\n",
    "#######################################################################\n",
    "#todo : print a tree par largeur (BFS): \n",
    "\n",
    "def tree_BFS(tree):\n",
    "    list_of_levels = []\n",
    "    q = []\n",
    "    i=0 \n",
    "    q.append(tree)\n",
    "\n",
    "    #* while not empty queue\n",
    "    while(i<len(q)):\n",
    "        \n",
    "        lvl=[]\n",
    "        for k in range(len(q)-i):\n",
    "            #! we read a node => dequeue\n",
    "            node = q[i]\n",
    "            i+=1\n",
    "            if(node):\n",
    "                lvl.append(node.data)\n",
    "                q.append(node.left)\n",
    "                q.append(node.right)\n",
    "        \n",
    "        if(len(lvl)!=0):\n",
    "            list_of_levels.append(lvl)\n",
    "\n",
    "    return list_of_levels \n",
    "\n",
    "res = tree_BFS(new_tree)\n",
    "print(f\"BSF : {res}\")\n",
    "        \n",
    "\n",
    "def print_tree(tree, level=0, prefix=\"Root:\"):\n",
    "    if tree is not None:\n",
    "        print(\" \" * (level * 4) + prefix + str(tree.data))\n",
    "        if tree.left is not None or tree.right is not None:\n",
    "            print_tree(tree.left, level + 1, \"L--\")\n",
    "            print_tree(tree.right, level + 1, \"R--\")\n",
    "\n",
    "# Example usage:\n",
    "print_tree(new_tree)"
   ]
  },
  {
   "cell_type": "markdown",
   "metadata": {},
   "source": [
    "\n",
    "##  CRITICAL : THE ERROR WAS HERE (since i don't have a build in Dequeue like stack pop())\n",
    "\n",
    "\"\"\" \n",
    "        for k in range(len(q)):\n",
    "        \n",
    "len(q): will take in consideration the nodes i dequeue , because i am not \n",
    "    really removing thme like with (pop)\n",
    "\n",
    "so i have to set the new length of the queue deppending on its i (first element): \n",
    "            for k in range(len(q)-i):\n",
    "\n",
    "\"\"\""
   ]
  },
  {
   "cell_type": "markdown",
   "metadata": {},
   "source": [
    "### Inserting to a BST"
   ]
  },
  {
   "cell_type": "code",
   "execution_count": 11,
   "metadata": {},
   "outputs": [
    {
     "name": "stdout",
     "output_type": "stream",
     "text": [
      "[0, 1, 2, 3, 4, 5, 6, 7, 8, 9, 0, 1, 1, 2, 3, 4, 5, 6, 7, 8, 9]\n"
     ]
    },
    {
     "data": {
      "text/plain": [
       "[[4], [1, 7], [0, 2, 5, 8], [1, 3, 6, 9]]"
      ]
     },
     "execution_count": 11,
     "metadata": {},
     "output_type": "execute_result"
    }
   ],
   "source": [
    "\n",
    "def insert(root , val):\n",
    "    if(root ==None):\n",
    "        return \n",
    "    else:\n",
    "        if(val <= root.data):\n",
    "            if(root.left==None):\n",
    "                node =Node(data=val)\n",
    "                root.left=node \n",
    "            else:\n",
    "                insert(root.left ,val)\n",
    "        \n",
    "        else:\n",
    "            if(root.right == None):\n",
    "                node =Node(data=val)\n",
    "                root.right=node\n",
    "\n",
    "            else:\n",
    "                insert(root.right , val) \n",
    "\n",
    "\n",
    "insert(new_tree , 1)\n",
    "\n",
    "print(in_order_second(new_tree))\n",
    "tree_BFS(new_tree)"
   ]
  },
  {
   "cell_type": "markdown",
   "metadata": {},
   "source": [
    "## Shorter Insertion 2nd --- DID Not Work for me"
   ]
  },
  {
   "cell_type": "code",
   "execution_count": 12,
   "metadata": {},
   "outputs": [
    {
     "name": "stdout",
     "output_type": "stream",
     "text": [
      "[0, 1, 2, 3, 4, 5, 6, 7, 8, 9, 0, 1, 1, 2, 3, 4, 5, 6, 7, 8, 9, 0, 1, 1, 2, 3, 4, 5, 6, 7, 8, 9]\n"
     ]
    },
    {
     "data": {
      "text/plain": [
       "[[4], [1, 7], [0, 2, 5, 8], [1, 3, 6, 9]]"
      ]
     },
     "execution_count": 12,
     "metadata": {},
     "output_type": "execute_result"
    }
   ],
   "source": [
    "def second_insert(root,val):\n",
    "    if (root == None):\n",
    "        root = Node(val) \n",
    "    \n",
    "    elif(val<=root.data):\n",
    "        print(root)\n",
    "        second_insert(root.left,val)\n",
    "        \n",
    "    else:\n",
    "        second_insert(root.right,val)\n",
    "\n",
    "second_insert(new_tree , 11)\n",
    "\n",
    "print(in_order_second(new_tree))\n",
    "tree_BFS(new_tree)"
   ]
  },
  {
   "cell_type": "code",
   "execution_count": 13,
   "metadata": {},
   "outputs": [
    {
     "data": {
      "text/plain": [
       "11"
      ]
     },
     "execution_count": 13,
     "metadata": {},
     "output_type": "execute_result"
    }
   ],
   "source": [
    "def num_nodes(root):\n",
    "    if(root == None):\n",
    "        return 0 \n",
    "    else:\n",
    "        return 1 + num_nodes(root.left)+num_nodes(root.right)\n",
    "    \n",
    "\n",
    "num_nodes(new_tree)"
   ]
  },
  {
   "cell_type": "markdown",
   "metadata": {},
   "source": [
    "# Avoid default Mutable Arguments Weird Behaviour"
   ]
  },
  {
   "cell_type": "code",
   "execution_count": 14,
   "metadata": {},
   "outputs": [
    {
     "name": "stdout",
     "output_type": "stream",
     "text": [
      "[4, 5, 6]\n"
     ]
    }
   ],
   "source": [
    "class Solution:\n",
    "    def inorderTraversal(self, root, my_list=None):\n",
    "        if(my_list==None):\n",
    "            my_list=[]\n",
    "        if (root == None):\n",
    "            return  \n",
    "        else : \n",
    "            self.inorderTraversal(root.left ,my_list)\n",
    "            my_list.append(root.data)\n",
    "            self.inorderTraversal(root.right ,my_list)  \n",
    "\n",
    "\n",
    "        return my_list\n",
    "\n",
    "\n",
    "solution =Solution()\n",
    "\n",
    "root = Node(5)\n",
    "root.left = Node(4)\n",
    "root.right = Node(6)\n",
    "\n",
    "print(solution.inorderTraversal(root))"
   ]
  },
  {
   "cell_type": "markdown",
   "metadata": {},
   "source": [
    "# My_print_tree"
   ]
  },
  {
   "cell_type": "code",
   "execution_count": 23,
   "metadata": {},
   "outputs": [
    {
     "name": "stdout",
     "output_type": "stream",
     "text": [
      " ROOT: 5\n",
      "   --L : 4\n",
      "     --L : 1\n",
      "     --R : 3\n",
      "   --R : 6\n",
      "     --L : 4\n",
      "     --R : 7\n"
     ]
    }
   ],
   "source": [
    "\n",
    "root = Node(5)\n",
    "root.left = Node(4)\n",
    "root.left.left = Node(1)\n",
    "root.left.right = Node(3)\n",
    "\n",
    "root.right = Node(6) \n",
    "root.right.left = Node(4) \n",
    "root.right.right = Node(7) \n",
    "\n",
    "\n",
    "def my_print_tree(root , level = 0 , prefix='ROOT:'):\n",
    "    if(root == None ):\n",
    "        return \n",
    "    else: \n",
    "        print(' '*level*2,prefix,root.data)\n",
    "        my_print_tree(root.left,level+1,'--L :')\n",
    "        my_print_tree(root.right,level+1,\"--R :\")\n",
    "\n",
    "\n",
    "\n",
    "my_print_tree(root)"
   ]
  }
 ],
 "metadata": {
  "kernelspec": {
   "display_name": "base",
   "language": "python",
   "name": "python3"
  },
  "language_info": {
   "codemirror_mode": {
    "name": "ipython",
    "version": 3
   },
   "file_extension": ".py",
   "mimetype": "text/x-python",
   "name": "python",
   "nbconvert_exporter": "python",
   "pygments_lexer": "ipython3",
   "version": "3.10.12"
  }
 },
 "nbformat": 4,
 "nbformat_minor": 2
}
